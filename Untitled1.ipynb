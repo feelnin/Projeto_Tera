{
 "cells": [
  {
   "cell_type": "code",
   "execution_count": 2,
   "id": "4e90a9ff",
   "metadata": {},
   "outputs": [
    {
     "name": "stdout",
     "output_type": "stream",
     "text": [
      "\u001b[31mERROR: Could not find a version that satisfies the requirement math (from versions: none)\u001b[0m\r\n",
      "\u001b[31mERROR: No matching distribution found for math\u001b[0m\r\n"
     ]
    }
   ],
   "source": [
    "!pip install math"
   ]
  },
  {
   "cell_type": "code",
   "execution_count": 3,
   "id": "d2864f5e",
   "metadata": {},
   "outputs": [],
   "source": [
    "import math"
   ]
  },
  {
   "cell_type": "code",
   "execution_count": 4,
   "id": "ded7dca5",
   "metadata": {},
   "outputs": [
    {
     "name": "stdout",
     "output_type": "stream",
     "text": [
      "\n",
      "Please wait a moment while I gather a list of all available modules...\n",
      "\n"
     ]
    },
    {
     "name": "stderr",
     "output_type": "stream",
     "text": [
      "/home/diolinux/.pyenv/versions/3.6.6/lib/python3.6/site-packages/IPython/kernel/__init__.py:13: ShimWarning: The `IPython.kernel` package has been deprecated since IPython 4.0.You should import from ipykernel or jupyter_client instead.\n",
      "  \"You should import from ipykernel or jupyter_client instead.\", ShimWarning)\n",
      "/home/diolinux/.pyenv/versions/3.6.6/lib/python3.6/pkgutil.py:92: MatplotlibDeprecationWarning: \n",
      "The matplotlib.compat module was deprecated in Matplotlib 3.3 and will be removed two minor releases later.\n",
      "  __import__(info.name)\n",
      "/home/diolinux/.pyenv/versions/3.6.6/lib/python3.6/site-packages/pandas/compat/__init__.py:120: UserWarning: Could not import the lzma module. Your installed Python is incomplete. Attempting to use lzma compression will result in a RuntimeError.\n",
      "  warnings.warn(msg)\n"
     ]
    },
    {
     "name": "stdout",
     "output_type": "stream",
     "text": [
      "IPython             backcall            jsonschema          scipy\n",
      "PIL                 base64              jupyter             seaborn\n",
      "__future__          bdb                 jupyter_client      secrets\n",
      "_argon2_cffi_bindings binascii            jupyter_core        select\n",
      "_ast                binhex              jupyter_server      selectors\n",
      "_asyncio            bisect              jupyterlab          send2trash\n",
      "_bisect             bleach              jupyterlab_pygments setuptools\n",
      "_blake2             builtins            jupyterlab_server   shelve\n",
      "_bootlocale         bz2                 keyword             shlex\n",
      "_bz2                cProfile            kiwisolver          shutil\n",
      "_cffi_backend       calendar            lib2to3             signal\n",
      "_codecs             certifi             linecache           site\n",
      "_codecs_cn          cffi                locale              six\n",
      "_codecs_hk          cgi                 logging             sklearn\n",
      "_codecs_iso2022     cgitb               lzma                smtpd\n",
      "_codecs_jp          charset_normalizer  macpath             smtplib\n",
      "_codecs_kr          chunk               macurl2path         sndhdr\n",
      "_codecs_tw          cmath               mailbox             sniffio\n",
      "_collections        cmd                 mailcap             socket\n",
      "_collections_abc    code                markupsafe          socketserver\n",
      "_compat_pickle      codecs              marshal             spwd\n",
      "_compression        codeop              math                sqlite3\n",
      "_crypt              collections         matplotlib          sre_compile\n",
      "_csv                colorsys            mimetypes           sre_constants\n",
      "_ctypes             compileall          mistune             sre_parse\n",
      "_ctypes_test        concurrent          mmap                ssl\n",
      "_curses             configparser        modulefinder        stat\n",
      "_curses_panel       contextlib          multiprocessing     statistics\n",
      "_datetime           contextvars         nbclassic           storemagic\n",
      "_decimal            copy                nbclient            string\n",
      "_dummy_thread       copyreg             nbconvert           stringprep\n",
      "_elementtree        crypt               nbformat            struct\n",
      "_functools          csv                 nest_asyncio        subprocess\n",
      "_hashlib            ctypes              netrc               sunau\n",
      "_heapq              curses              nis                 symbol\n",
      "_imp                cycler              nntplib             sympyprinting\n",
      "_io                 cythonmagic         notebook            symtable\n",
      "_json               dataclasses         ntpath              sys\n",
      "_locale             datetime            nturl2path          sysconfig\n",
      "_lsprof             dateutil            numbers             syslog\n",
      "_markupbase         dbm                 numpy               tabnanny\n",
      "_md5                decimal             opcode              tarfile\n",
      "_multibytecodec     decorator           operator            telnetlib\n",
      "_multiprocessing    defusedxml          optparse            tempfile\n",
      "_opcode             difflib             os                  terminado\n",
      "_operator           dis                 ossaudiodev         termios\n",
      "_osx_support        distutils           packaging           test\n",
      "_pickle             doctest             pandas              testpath\n",
      "_posixsubprocess    dummy_threading     pandocfilters       tests\n",
      "_pydecimal          easy_install        parser              textwrap\n",
      "_pyio               email               parso               this\n",
      "_pyrsistent_version encodings           pathlib             threading\n",
      "_random             ensurepip           pdb                 threadpoolctl\n",
      "_sha1               entrypoints         pexpect             time\n",
      "_sha256             enum                pickle              timeit\n",
      "_sha3               errno               pickleshare         tkinter\n",
      "_sha512             faulthandler        pickletools         token\n",
      "_signal             fcntl               pip                 tokenize\n",
      "_sitebuiltins       filecmp             pipes               tornado\n",
      "_socket             fileinput           pkg_resources       trace\n",
      "_sqlite3            fnmatch             pkgutil             traceback\n",
      "_sre                formatter           platform            tracemalloc\n",
      "_ssl                fractions           plistlib            traitlets\n",
      "_stat               ftplib              poplib              tty\n",
      "_string             functools           posix               turtle\n",
      "_strptime           gc                  posixpath           turtledemo\n",
      "_struct             genericpath         pprint              types\n",
      "_symtable           getopt              profile             typing\n",
      "_sysconfigdata_m_linux_x86_64-linux-gnu getpass             prometheus_client   typing_extensions\n",
      "_testbuffer         gettext             prompt_toolkit      unicodedata\n",
      "_testcapi           glob                pstats              unittest\n",
      "_testimportmultiple grp                 pty                 urllib\n",
      "_testmultiphase     gzip                ptyprocess          urllib3\n",
      "_thread             hashlib             pvectorc            uu\n",
      "_threading_local    heapq               pwd                 uuid\n",
      "_tkinter            hmac                py_compile          venv\n",
      "_tracemalloc        html                pyclbr              warnings\n",
      "_warnings           http                pycparser           wave\n",
      "_weakref            idlelib             pydoc               wcwidth\n",
      "_weakrefset         idna                pydoc_data          weakref\n",
      "abc                 imaplib             pyexpat             webbrowser\n",
      "aifc                imghdr              pygments            webencodings\n",
      "antigravity         immutables          pylab               websocket\n",
      "anyio               imp                 pyparsing           wsgiref\n",
      "argon2              importlib           pyrsistent          xdrlib\n",
      "argparse            importlib_metadata  pytz                xml\n",
      "array               inspect             queue               xmlrpc\n",
      "ast                 io                  quopri              xxlimited\n",
      "async_generator     ipaddress           random              xxsubtype\n",
      "asynchat            ipykernel           re                  zipapp\n",
      "asyncio             ipykernel_launcher  readline            zipfile\n",
      "asyncore            ipython_genutils    reprlib             zipimport\n",
      "atexit              itertools           requests            zipp\n",
      "attr                jedi                resource            zlib\n",
      "attrs               jinja2              rlcompleter         zmq\n",
      "audioop             joblib              rmagic              \n",
      "autoreload          json                runpy               \n",
      "babel               json5               sched               \n",
      "\n",
      "Enter any module name to get more help.  Or, type \"modules spam\" to search\n",
      "for modules whose name or summary contain the string \"spam\".\n",
      "\n"
     ]
    },
    {
     "name": "stderr",
     "output_type": "stream",
     "text": [
      "/home/diolinux/.pyenv/versions/3.6.6/lib/python3.6/pkgutil.py:107: VisibleDeprecationWarning: zmq.eventloop.minitornado is deprecated in pyzmq 14.0 and will be removed.\n",
      "    Install tornado itself to use zmq with the tornado IOLoop.\n",
      "    \n",
      "  yield from walk_packages(path, info.name+'.', onerror)\n"
     ]
    }
   ],
   "source": [
    "help('modules')"
   ]
  },
  {
   "cell_type": "code",
   "execution_count": 5,
   "id": "1649359d",
   "metadata": {},
   "outputs": [
    {
     "name": "stdout",
     "output_type": "stream",
     "text": [
      "Collecting conda\n",
      "  Downloading conda-4.3.16.tar.gz (299 kB)\n",
      "     |████████████████████████████████| 299 kB 1.2 MB/s            \n",
      "\u001b[?25h  Preparing metadata (setup.py) ... \u001b[?25ldone\n",
      "\u001b[?25hCollecting pycosat>=0.6.1\n",
      "  Downloading pycosat-0.6.3.zip (66 kB)\n",
      "     |████████████████████████████████| 66 kB 6.4 MB/s             \n",
      "\u001b[?25h  Preparing metadata (setup.py) ... \u001b[?25ldone\n",
      "\u001b[?25hRequirement already satisfied: requests>=2.12.4 in /home/diolinux/.pyenv/versions/3.6.6/lib/python3.6/site-packages (from conda) (2.27.1)\n",
      "Collecting ruamel.yaml>=0.11.14\n",
      "  Downloading ruamel.yaml-0.17.21-py3-none-any.whl (109 kB)\n",
      "     |████████████████████████████████| 109 kB 22.8 MB/s            \n",
      "\u001b[?25hRequirement already satisfied: charset-normalizer~=2.0.0 in /home/diolinux/.pyenv/versions/3.6.6/lib/python3.6/site-packages (from requests>=2.12.4->conda) (2.0.12)\n",
      "Requirement already satisfied: urllib3<1.27,>=1.21.1 in /home/diolinux/.pyenv/versions/3.6.6/lib/python3.6/site-packages (from requests>=2.12.4->conda) (1.26.9)\n",
      "Requirement already satisfied: idna<4,>=2.5 in /home/diolinux/.pyenv/versions/3.6.6/lib/python3.6/site-packages (from requests>=2.12.4->conda) (3.3)\n",
      "Requirement already satisfied: certifi>=2017.4.17 in /home/diolinux/.pyenv/versions/3.6.6/lib/python3.6/site-packages (from requests>=2.12.4->conda) (2022.6.15)\n",
      "Collecting ruamel.yaml.clib>=0.2.6\n",
      "  Downloading ruamel.yaml.clib-0.2.6-cp36-cp36m-manylinux1_x86_64.whl (552 kB)\n",
      "     |████████████████████████████████| 552 kB 33.0 MB/s            \n",
      "\u001b[?25hUsing legacy 'setup.py install' for conda, since package 'wheel' is not installed.\n",
      "Using legacy 'setup.py install' for pycosat, since package 'wheel' is not installed.\n",
      "Installing collected packages: ruamel.yaml.clib, ruamel.yaml, pycosat, conda\n",
      "    Running setup.py install for pycosat ... \u001b[?25ldone\n",
      "\u001b[?25h    Running setup.py install for conda ... \u001b[?25ldone\n",
      "\u001b[?25hSuccessfully installed conda-4.3.16 pycosat-0.6.3 ruamel.yaml-0.17.21 ruamel.yaml.clib-0.2.6\n"
     ]
    }
   ],
   "source": [
    "!pip install conda\n"
   ]
  }
 ],
 "metadata": {
  "kernelspec": {
   "display_name": "Python 3",
   "language": "python",
   "name": "python3"
  },
  "language_info": {
   "codemirror_mode": {
    "name": "ipython",
    "version": 3
   },
   "file_extension": ".py",
   "mimetype": "text/x-python",
   "name": "python",
   "nbconvert_exporter": "python",
   "pygments_lexer": "ipython3",
   "version": "3.6.6"
  }
 },
 "nbformat": 4,
 "nbformat_minor": 5
}
