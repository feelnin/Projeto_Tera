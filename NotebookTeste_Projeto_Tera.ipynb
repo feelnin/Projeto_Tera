{
 "cells": [
  {
   "cell_type": "code",
   "execution_count": null,
   "id": "c78ad3c6",
   "metadata": {},
   "outputs": [],
   "source": [
    "!pip install lightgbm"
   ]
  },
  {
   "cell_type": "markdown",
   "id": "8485bce2",
   "metadata": {},
   "source": [
    "# Imports"
   ]
  },
  {
   "cell_type": "code",
   "execution_count": 1,
   "id": "7cbc0bde",
   "metadata": {},
   "outputs": [
    {
     "name": "stderr",
     "output_type": "stream",
     "text": [
      "/home/diolinux/.pyenv/versions/3.6.6/lib/python3.6/site-packages/pandas/compat/__init__.py:120: UserWarning: Could not import the lzma module. Your installed Python is incomplete. Attempting to use lzma compression will result in a RuntimeError.\n",
      "  warnings.warn(msg)\n"
     ]
    }
   ],
   "source": [
    "# Módulos de manipulação de dados\n",
    "\n",
    "import pandas as pd\n",
    "import numpy as np\n",
    "import matplotlib.pyplot as plt\n",
    "import seaborn as sns\n",
    "\n",
    "\n",
    "# Módulos de DataPrep\n",
    "from sklearn.preprocessing import StandardScaler, MinMaxScaler\n",
    "from sklearn.model_selection import cross_val_score, train_test_split\n",
    "\n",
    "import warnings\n",
    "warnings.filterwarnings('ignore')\n",
    "\n",
    "# Modelos de regressão que iremos testar\n",
    "from sklearn.linear_model import LinearRegression, Ridge, Lasso\n",
    "from sklearn.tree import DecisionTreeRegressor\n",
    "from sklearn.ensemble import RandomForestRegressor, GradientBoostingRegressor\n",
    "from lightgbm import LGBMRegressor\n",
    "\n",
    "from sklearn.model_selection import train_test_split\n",
    "from sklearn.linear_model import LinearRegression\n",
    "from sklearn.neighbors import  KNeighborsRegressor\n",
    "from sklearn.svm import  SVR\n",
    "from xgboost import XGBRegressor\n",
    "from sklearn.preprocessing import StandardScaler\n",
    "plt.rc('xtick', labelsize=18) \n",
    "plt.rc('ytick', labelsize=18) \n",
    "\n",
    "# Métricas\n",
    "from sklearn.metrics import mean_squared_error, mean_absolute_error\n",
    "\n",
    "# Importando módulos de teste\n",
    "from statsmodels.tsa.stattools import adfuller"
   ]
  },
  {
   "cell_type": "markdown",
   "id": "ef4d9780",
   "metadata": {},
   "source": [
    "# Carregamento dos Dados e Mudança do dtype de algumas features"
   ]
  },
  {
   "cell_type": "code",
   "execution_count": 2,
   "id": "bcdad432",
   "metadata": {},
   "outputs": [],
   "source": [
    "# Carregando os dados para treinamento do modelo\n",
    "dados_prep = pd.read_csv('2004-2021.tsv',sep='\\t', encoding='utf-8', parse_dates=['DATA INICIAL', 'DATA FINAL'])\n"
   ]
  },
  {
   "cell_type": "code",
   "execution_count": null,
   "id": "13ac39ec",
   "metadata": {},
   "outputs": [],
   "source": [
    "dados_prep.head()"
   ]
  },
  {
   "cell_type": "code",
   "execution_count": null,
   "id": "c755a2f7",
   "metadata": {},
   "outputs": [],
   "source": [
    "dados_prep.info()"
   ]
  },
  {
   "cell_type": "code",
   "execution_count": null,
   "id": "cf27a772",
   "metadata": {},
   "outputs": [],
   "source": [
    "print(\"Value of row 1903\")\n",
    "display(dados_prep.iloc[1903])"
   ]
  },
  {
   "cell_type": "code",
   "execution_count": 3,
   "id": "d494920c",
   "metadata": {},
   "outputs": [],
   "source": [
    "columns= ['PREÇO MÉDIO DISTRIBUIÇÃO', 'DESVIO PADRÃO DISTRIBUIÇÃO' ,'PREÇO MÍNIMO DISTRIBUIÇÃO','PREÇO MÁXIMO DISTRIBUIÇÃO','COEF DE VARIAÇÃO DISTRIBUIÇÃO' ,'MARGEM MÉDIA REVENDA' ]\n",
    "for col in columns:\n",
    "    dados_prep[col] = dados_prep[col].replace('-', 0)"
   ]
  },
  {
   "cell_type": "code",
   "execution_count": 4,
   "id": "b345b735",
   "metadata": {},
   "outputs": [],
   "source": [
    "columns= ['PREÇO MÉDIO DISTRIBUIÇÃO', 'DESVIO PADRÃO DISTRIBUIÇÃO' ,'PREÇO MÍNIMO DISTRIBUIÇÃO','PREÇO MÁXIMO DISTRIBUIÇÃO','COEF DE VARIAÇÃO DISTRIBUIÇÃO' ,'MARGEM MÉDIA REVENDA' ]\n",
    "for col in columns:\n",
    "    dados_prep[col] = pd.to_numeric(dados_prep[col])"
   ]
  },
  {
   "cell_type": "code",
   "execution_count": 5,
   "id": "d8d8cd72",
   "metadata": {},
   "outputs": [],
   "source": [
    "columns= ['PREÇO MÉDIO DISTRIBUIÇÃO', 'DESVIO PADRÃO DISTRIBUIÇÃO' ,'PREÇO MÍNIMO DISTRIBUIÇÃO','PREÇO MÁXIMO DISTRIBUIÇÃO','COEF DE VARIAÇÃO DISTRIBUIÇÃO' ,'MARGEM MÉDIA REVENDA' ]\n",
    "for col in columns:\n",
    "    dados_prep[col] = dados_prep[col].replace(-99999.0, 0)"
   ]
  },
  {
   "cell_type": "code",
   "execution_count": 6,
   "id": "ec3560a7",
   "metadata": {},
   "outputs": [
    {
     "name": "stdout",
     "output_type": "stream",
     "text": [
      "DATA INICIAL                     0\n",
      "DATA FINAL                       0\n",
      "REGIÃO                           0\n",
      "ESTADO                           0\n",
      "PRODUTO                          0\n",
      "NÚMERO DE POSTOS PESQUISADOS     0\n",
      "UNIDADE DE MEDIDA                0\n",
      "PREÇO MÉDIO REVENDA              0\n",
      "DESVIO PADRÃO REVENDA            0\n",
      "PREÇO MÍNIMO REVENDA             0\n",
      "PREÇO MÁXIMO REVENDA             0\n",
      "MARGEM MÉDIA REVENDA             0\n",
      "COEF DE VARIAÇÃO REVENDA         0\n",
      "PREÇO MÉDIO DISTRIBUIÇÃO         0\n",
      "DESVIO PADRÃO DISTRIBUIÇÃO       0\n",
      "PREÇO MÍNIMO DISTRIBUIÇÃO        0\n",
      "PREÇO MÁXIMO DISTRIBUIÇÃO        0\n",
      "COEF DE VARIAÇÃO DISTRIBUIÇÃO    0\n",
      "dtype: int64\n"
     ]
    }
   ],
   "source": [
    "# Eliminando registros em que não temos a variável resposta\n",
    "dados_prep = dados_prep.dropna(subset=['PREÇO MÉDIO REVENDA'])\n",
    "\n",
    "print(dados_prep.isna().sum())"
   ]
  },
  {
   "cell_type": "markdown",
   "id": "3e4be2e8",
   "metadata": {},
   "source": [
    "# EDA"
   ]
  },
  {
   "cell_type": "code",
   "execution_count": null,
   "id": "4bc53027",
   "metadata": {},
   "outputs": [],
   "source": [
    "plt.figure(figsize=(10,4))\n",
    "sns.distplot(dados_prep['PREÇO MÉDIO REVENDA'])\n",
    "plt.xlabel('PREÇO MÉDIO DE REVENDA',size=16)\n",
    "plt.ylabel('Densidade',size=16)\n",
    "plt.title('Distribuição da variável resposta',size=16)\n",
    "plt.show()"
   ]
  },
  {
   "cell_type": "code",
   "execution_count": null,
   "id": "fa6eeb78",
   "metadata": {},
   "outputs": [],
   "source": [
    "plt.figure(figsize=(10,4))\n",
    "sns.distplot(np.log1p(dados_prep['PREÇO MÉDIO REVENDA']))\n",
    "plt.xlabel('PREÇO MÉDIO DE REVENDA',size=16)\n",
    "plt.ylabel('Densidade',size=16)\n",
    "plt.title('Distribuição do log da variável resposta',size=12)\n",
    "plt.show()"
   ]
  },
  {
   "cell_type": "code",
   "execution_count": 7,
   "id": "dfb60ec3",
   "metadata": {},
   "outputs": [],
   "source": [
    "dados_prep[\"PREÇO MÉDIO REVENDA\"] = np.log(dados_prep[\"PREÇO MÉDIO REVENDA\"] + 1)"
   ]
  },
  {
   "cell_type": "code",
   "execution_count": null,
   "id": "385636d6",
   "metadata": {},
   "outputs": [],
   "source": [
    "sns.displot(data=dados_prep, x=\"PREÇO MÉDIO REVENDA\", kde=True)"
   ]
  },
  {
   "cell_type": "code",
   "execution_count": null,
   "id": "11825304",
   "metadata": {},
   "outputs": [],
   "source": [
    "#dados_prep.set_index('DATA INICIAL',inplace=True)"
   ]
  },
  {
   "cell_type": "code",
   "execution_count": null,
   "id": "c948deab",
   "metadata": {},
   "outputs": [],
   "source": [
    "#dados_prep.set_index('DATA FINAL',inplace=True)"
   ]
  },
  {
   "cell_type": "code",
   "execution_count": null,
   "id": "8935aed3",
   "metadata": {},
   "outputs": [],
   "source": [
    "# Observar a target ao longo do tempo\n",
    "plt.figure(figsize=(30,4))\n",
    "plt.plot(dados_prep['DATA FINAL'].dropna,dados_prep['PREÇO MÉDIO REVENDA'])\n",
    "plt.xticks(fontsize=22)\n",
    "plt.yticks(fontsize=22)\n",
    "plt.xlabel('Período',size=22)\n",
    "plt.ylabel('PM 2.5',size=22)\n",
    "plt.title('Histórico da target',size=22)\n",
    "\n",
    "plt.show()"
   ]
  },
  {
   "cell_type": "code",
   "execution_count": null,
   "id": "5050f2f3",
   "metadata": {},
   "outputs": [],
   "source": []
  },
  {
   "cell_type": "code",
   "execution_count": 8,
   "id": "3666ff26",
   "metadata": {},
   "outputs": [],
   "source": [
    "novo = dados_prep.query('ESTADO == \"SAO PAULO\" and PRODUTO == \"GASOLINA COMUM\"')"
   ]
  },
  {
   "cell_type": "code",
   "execution_count": null,
   "id": "1654aa01",
   "metadata": {},
   "outputs": [],
   "source": [
    "novo.info()"
   ]
  },
  {
   "cell_type": "code",
   "execution_count": null,
   "id": "893e27c5",
   "metadata": {},
   "outputs": [],
   "source": [
    "plt.figure(figsize=(30,4))\n",
    "plt.plot(novo['DATA INICIAL'],novo['PREÇO MÉDIO REVENDA'])\n",
    "plt.xticks(fontsize=22)\n",
    "plt.yticks(fontsize=22)\n",
    "plt.xlabel('Período',size=22)\n",
    "plt.ylabel('PM 2.5',size=22)\n",
    "plt.title('Histórico da target',size=22)\n",
    "\n",
    "plt.show()"
   ]
  },
  {
   "cell_type": "code",
   "execution_count": null,
   "id": "0c5abe42",
   "metadata": {},
   "outputs": [],
   "source": [
    "# Observar a target ao longo do tempo\n",
    "plt.figure(figsize=(30,4))\n",
    "plt.plot(novo['DATA FINAL'],novo['PREÇO MÉDIO REVENDA'])\n",
    "plt.xticks(fontsize=22)\n",
    "plt.yticks(fontsize=22)\n",
    "plt.xlabel('Período',size=22)\n",
    "plt.ylabel('PM 2.5',size=22)\n",
    "plt.title('Histórico da target',size=22)\n",
    "\n",
    "plt.show()"
   ]
  },
  {
   "cell_type": "code",
   "execution_count": null,
   "id": "5bb1cf13",
   "metadata": {},
   "outputs": [],
   "source": [
    "def constroi_features_defasadas(base,lista_features,defasagem_maxima):\n",
    "    # Constrói features defasadas com base na base original\n",
    "    # Copia a base\n",
    "    base_cop = base.copy()\n",
    "    for feat in lista_features:       \n",
    "        for i in range(1,defasagem_maxima+1):\n",
    "            base_cop[str(feat)+'_def_'+str(i)] = base_cop[feat].shift(i)\n",
    "    return base_cop"
   ]
  },
  {
   "cell_type": "code",
   "execution_count": null,
   "id": "4a9e2526",
   "metadata": {},
   "outputs": [],
   "source": [
    "novo_eng = constroi_features_defasadas(novo,['PREÇO MÉDIO REVENDA', 'DESVIO PADRÃO REVENDA', 'PREÇO MÍNIMO REVENDA',\n",
    "       'PREÇO MÁXIMO REVENDA', 'MARGEM MÉDIA REVENDA',\n",
    "       'COEF DE VARIAÇÃO REVENDA', 'PREÇO MÉDIO DISTRIBUIÇÃO',\n",
    "       'DESVIO PADRÃO DISTRIBUIÇÃO', 'PREÇO MÍNIMO DISTRIBUIÇÃO',\n",
    "       'PREÇO MÁXIMO DISTRIBUIÇÃO', 'COEF DE VARIAÇÃO DISTRIBUIÇÃO'],12)"
   ]
  },
  {
   "cell_type": "code",
   "execution_count": null,
   "id": "834fc2e0",
   "metadata": {},
   "outputs": [],
   "source": [
    "print('Colunas antes do feature engineering: {}'.format(novo.shape[-1]))\n",
    "print('Colunas antes do feature engineering: {}'.format(novo_eng.shape[-1]))"
   ]
  },
  {
   "cell_type": "markdown",
   "id": "1bac9091",
   "metadata": {},
   "source": [
    "# Pré-Processamento, teste e slit"
   ]
  },
  {
   "cell_type": "code",
   "execution_count": 9,
   "id": "50c6c594",
   "metadata": {},
   "outputs": [],
   "source": [
    "# Discretização das features categóricas\n",
    "novo = pd.get_dummies(novo, columns=['PRODUTO','ESTADO','REGIÃO', 'UNIDADE DE MEDIDA'], drop_first=True)"
   ]
  },
  {
   "cell_type": "code",
   "execution_count": 10,
   "id": "0834655c",
   "metadata": {},
   "outputs": [],
   "source": [
    "# Diferenciação para tornar a série em estacionária\n",
    "new = novo.diff(1)"
   ]
  },
  {
   "cell_type": "code",
   "execution_count": 12,
   "id": "afd68a16",
   "metadata": {},
   "outputs": [],
   "source": [
    "def construcao_target(base,nome_feature_target,periodos_considerados):\n",
    "    # Constrói a variável resposta usando feature_target agrupado pelo número periodos_considerados\n",
    "    cols_target = []\n",
    "    for i in range(periodos_considerados):\n",
    "        nome_feature = nome_feature_target+'_'+str(i)\n",
    "        cols_target.append(nome_feature)\n",
    "        base[nome_feature] = base[nome_feature_target].shift(-i)\n",
    "    # Consolidação final\n",
    "    base['target'] = base[cols_target].mean(axis=1)\n",
    "    # Retorna a base apenas com a coluna target, desconsiderando as demais\n",
    "    return base.drop(cols_target,axis=1)"
   ]
  },
  {
   "cell_type": "code",
   "execution_count": null,
   "id": "5b53d208",
   "metadata": {},
   "outputs": [],
   "source": [
    "new.head()"
   ]
  },
  {
   "cell_type": "code",
   "execution_count": null,
   "id": "1174e7b8",
   "metadata": {},
   "outputs": [],
   "source": [
    "# Teste estatístico\n",
    "# Instanciando o teste (o p-valor é sempre o SEGUNDO número da tupla)\n",
    "teste_fuller_estac = adfuller(data['PREÇO MÉDIO REVENDA'])\n",
    "print(\"O p-valor do teste foi de {:.2f}\".format(teste_fuller_estac[1]))"
   ]
  },
  {
   "cell_type": "code",
   "execution_count": null,
   "id": "1df37ae2",
   "metadata": {},
   "outputs": [],
   "source": [
    "novo.head()"
   ]
  },
  {
   "cell_type": "code",
   "execution_count": 13,
   "id": "477f58dd",
   "metadata": {},
   "outputs": [],
   "source": [
    "base_com_target = construcao_target(new,'PREÇO MÉDIO REVENDA',6)"
   ]
  },
  {
   "cell_type": "code",
   "execution_count": null,
   "id": "c5d0f968",
   "metadata": {},
   "outputs": [],
   "source": [
    "base_com_target.head()"
   ]
  },
  {
   "cell_type": "code",
   "execution_count": null,
   "id": "f5350860",
   "metadata": {},
   "outputs": [],
   "source": [
    "base_com_target.info()"
   ]
  },
  {
   "cell_type": "code",
   "execution_count": null,
   "id": "c4e796a6",
   "metadata": {},
   "outputs": [],
   "source": [
    "# Partindo da nossa base inicial (dados horários)\n",
    "base_inicial = novo\n",
    "\n",
    "# Eliminando missings\n",
    "base_inicial_mis = base_inicial.dropna()\n",
    "\n",
    "# Vamos construir features até 24 horas atrás\n",
    "base_inicial_eng = constroi_features_defasadas(base_inicial_mis,\n",
    "                                               ['PREÇO MÉDIO REVENDA', 'DESVIO PADRÃO REVENDA', 'PREÇO MÍNIMO REVENDA',\n",
    "       'PREÇO MÁXIMO REVENDA', 'MARGEM MÉDIA REVENDA',\n",
    "       'COEF DE VARIAÇÃO REVENDA', 'PREÇO MÉDIO DISTRIBUIÇÃO',\n",
    "       'DESVIO PADRÃO DISTRIBUIÇÃO', 'PREÇO MÍNIMO DISTRIBUIÇÃO',\n",
    "       'PREÇO MÁXIMO DISTRIBUIÇÃO', 'COEF DE VARIAÇÃO DISTRIBUIÇÃO'],12)\n",
    "\n",
    "# E também uma variável target nas próximas 12 horas, excluindo linhas em que não é possível calcular a defasagem\n",
    "base_inicial_eng_target = construcao_target(base_inicial_eng,'PREÇO MÉDIO REVENDA',12).dropna()"
   ]
  },
  {
   "cell_type": "code",
   "execution_count": null,
   "id": "d740a12b",
   "metadata": {},
   "outputs": [],
   "source": [
    "base_inicial_eng_target.drop(['DATA INICIAL', 'DATA FINAL'], axis=1, inplace=True)"
   ]
  },
  {
   "cell_type": "code",
   "execution_count": null,
   "id": "e4c69b51",
   "metadata": {},
   "outputs": [],
   "source": [
    "x = base_inicial_eng_target.drop('target',axis=1)\n",
    "y = base_inicial_eng_target.target"
   ]
  },
  {
   "cell_type": "markdown",
   "id": "cdd23c1e",
   "metadata": {},
   "source": [
    "# Split por CrossValidation"
   ]
  },
  {
   "cell_type": "code",
   "execution_count": null,
   "id": "72f3d8b9",
   "metadata": {},
   "outputs": [],
   "source": [
    "from sklearn.model_selection import TimeSeriesSplit\n",
    "\n",
    "ts = TimeSeriesSplit(n_splits=30).split(x,y)\n",
    "ts"
   ]
  },
  {
   "cell_type": "code",
   "execution_count": null,
   "id": "595a3229",
   "metadata": {},
   "outputs": [],
   "source": [
    "i=1\n",
    "for train_index, test_index in TimeSeriesSplit(n_splits=30).split(x,y):\n",
    "    #print(train_index)\n",
    "    print('Fold '+str(i))\n",
    "    print('Conjunto de treino: '+str(len(x.iloc[train_index]))+' registros')\n",
    "    print('Conjunto de teste: '+str(len(x.iloc[test_index]))+' registros')\n",
    "    print('---')\n",
    "    i = i+1"
   ]
  },
  {
   "cell_type": "code",
   "execution_count": null,
   "id": "07ce516f",
   "metadata": {},
   "outputs": [],
   "source": [
    "corte_treino_teste = '2018-01-01' #Separando cerca de 20% para teste\n",
    "\n",
    "X_train = X[X.index<=corte_treino_teste]\n",
    "X_test = X[X.index>corte_treino_teste]\n",
    "\n",
    "y_train = y[y.index<=corte_treino_teste]\n",
    "y_test = y[y.index>corte_treino_teste]\n",
    "\n",
    "print('Tamanho do treino '+str(len(X_train)))\n",
    "print('Tamanho do teste '+str(len(X_test)))"
   ]
  },
  {
   "cell_type": "code",
   "execution_count": null,
   "id": "0a283f01",
   "metadata": {},
   "outputs": [],
   "source": [
    "base_target = construcao_target(new,'PREÇO MÉDIO REVENDA',12).dropna() #construção da target "
   ]
  },
  {
   "cell_type": "code",
   "execution_count": 14,
   "id": "412332f3",
   "metadata": {},
   "outputs": [],
   "source": [
    "base_com_target.drop(['DATA INICIAL', 'DATA FINAL'], axis=1, inplace=True)"
   ]
  },
  {
   "cell_type": "code",
   "execution_count": 15,
   "id": "97012d21",
   "metadata": {},
   "outputs": [],
   "source": [
    "base_com_target.dropna(inplace=True)"
   ]
  },
  {
   "cell_type": "code",
   "execution_count": 16,
   "id": "07dbc179",
   "metadata": {},
   "outputs": [],
   "source": [
    "x = base_com_target.drop(['target'], axis=1)"
   ]
  },
  {
   "cell_type": "code",
   "execution_count": 17,
   "id": "0501ac33",
   "metadata": {},
   "outputs": [],
   "source": [
    "y = base_com_target['target']"
   ]
  },
  {
   "cell_type": "code",
   "execution_count": 18,
   "id": "d6e4ce7d",
   "metadata": {},
   "outputs": [],
   "source": [
    "\n",
    "x_train , x_test, y_train , y_test = train_test_split(x,y,test_size=0.20)"
   ]
  },
  {
   "cell_type": "code",
   "execution_count": 19,
   "id": "df963769",
   "metadata": {},
   "outputs": [],
   "source": []
  },
  {
   "cell_type": "code",
   "execution_count": 20,
   "id": "9dd37d7c",
   "metadata": {},
   "outputs": [],
   "source": [
    "scalar = StandardScaler()"
   ]
  },
  {
   "cell_type": "code",
   "execution_count": 21,
   "id": "2e81782f",
   "metadata": {},
   "outputs": [],
   "source": [
    "scalar.fit(x_train)\n",
    "x_train = scalar.transform(x_train)"
   ]
  },
  {
   "cell_type": "code",
   "execution_count": 22,
   "id": "af3b8680",
   "metadata": {},
   "outputs": [],
   "source": [
    "models  = {\n",
    "    'LGBM':LGBMRegressor(max_depth=5),\n",
    "    \"LR\" : LinearRegression(n_jobs=-1),\n",
    "    \"XGB\" : XGBRegressor(n_estimators=100,n_jobs=-1,objective ='reg:squarederror'),\n",
    "    \"KNN\" : KNeighborsRegressor(n_neighbors=7),\n",
    "    \"GradientBoosting\"  :  GradientBoostingRegressor(),\n",
    "    \"DT\" : DecisionTreeRegressor(),\n",
    "    \"Random_Forest\" : RandomForestRegressor(n_estimators=100,n_jobs=-1)\n",
    "}"
   ]
  },
  {
   "cell_type": "code",
   "execution_count": 23,
   "id": "adc92e11",
   "metadata": {},
   "outputs": [
    {
     "name": "stdout",
     "output_type": "stream",
     "text": [
      "Using model: LGBM\n",
      "Training Score: 0.7254434457200921\n",
      "Test Score: 0.07940971145440956\n",
      "----------------------------------------------------------------------------------------------------\n",
      "Using model: LR\n",
      "Training Score: 0.3744069980774404\n",
      "Test Score: -17.892193556849065\n",
      "----------------------------------------------------------------------------------------------------\n",
      "Using model: XGB\n",
      "Training Score: 0.9534707303408042\n",
      "Test Score: -0.20189103550771925\n",
      "----------------------------------------------------------------------------------------------------\n",
      "Using model: KNN\n",
      "Training Score: 0.41838384739819223\n",
      "Test Score: -0.14864894911273252\n",
      "----------------------------------------------------------------------------------------------------\n",
      "Using model: GradientBoosting\n",
      "Training Score: 0.7968477779055967\n",
      "Test Score: -0.13153685494004375\n",
      "----------------------------------------------------------------------------------------------------\n",
      "Using model: DT\n",
      "Training Score: 1.0\n",
      "Test Score: -1.4320700683071572\n",
      "----------------------------------------------------------------------------------------------------\n",
      "Using model: Random_Forest\n",
      "Training Score: 0.9033429377524362\n",
      "Test Score: -0.08972064234307786\n",
      "----------------------------------------------------------------------------------------------------\n"
     ]
    }
   ],
   "source": [
    "for name, model in models.items():\n",
    "    print(f'Using model: {name}')\n",
    "    model.fit(x_train, y_train)\n",
    "    print(f'Training Score: {model.score(x_train, y_train)}')\n",
    "    print(f'Test Score: {model.score(x_test, y_test)}')  \n",
    "    print('--'*50)"
   ]
  },
  {
   "cell_type": "code",
   "execution_count": 26,
   "id": "b4d241cd",
   "metadata": {},
   "outputs": [],
   "source": [
    "model = LGBMRegressor()"
   ]
  },
  {
   "cell_type": "code",
   "execution_count": 27,
   "id": "95a0c9a2",
   "metadata": {},
   "outputs": [
    {
     "data": {
      "text/plain": [
       "LGBMRegressor()"
      ]
     },
     "execution_count": 27,
     "metadata": {},
     "output_type": "execute_result"
    }
   ],
   "source": [
    "model.fit(x_train,y_train)"
   ]
  },
  {
   "cell_type": "code",
   "execution_count": 28,
   "id": "17ad908e",
   "metadata": {},
   "outputs": [],
   "source": [
    "y_pred = model.predict(x_test)"
   ]
  },
  {
   "cell_type": "code",
   "execution_count": 29,
   "id": "a473bb99",
   "metadata": {},
   "outputs": [
    {
     "data": {
      "text/html": [
       "<div>\n",
       "<style scoped>\n",
       "    .dataframe tbody tr th:only-of-type {\n",
       "        vertical-align: middle;\n",
       "    }\n",
       "\n",
       "    .dataframe tbody tr th {\n",
       "        vertical-align: top;\n",
       "    }\n",
       "\n",
       "    .dataframe thead th {\n",
       "        text-align: right;\n",
       "    }\n",
       "</style>\n",
       "<table border=\"1\" class=\"dataframe\">\n",
       "  <thead>\n",
       "    <tr style=\"text-align: right;\">\n",
       "      <th></th>\n",
       "      <th>Actual Output</th>\n",
       "      <th>Predicted Output</th>\n",
       "    </tr>\n",
       "  </thead>\n",
       "  <tbody>\n",
       "    <tr>\n",
       "      <th>58903</th>\n",
       "      <td>-0.0008</td>\n",
       "      <td>0.0017</td>\n",
       "    </tr>\n",
       "    <tr>\n",
       "      <th>18404</th>\n",
       "      <td>-0.0000</td>\n",
       "      <td>0.0016</td>\n",
       "    </tr>\n",
       "    <tr>\n",
       "      <th>78731</th>\n",
       "      <td>0.0010</td>\n",
       "      <td>0.0017</td>\n",
       "    </tr>\n",
       "    <tr>\n",
       "      <th>96563</th>\n",
       "      <td>0.0005</td>\n",
       "      <td>0.0018</td>\n",
       "    </tr>\n",
       "    <tr>\n",
       "      <th>113206</th>\n",
       "      <td>-0.0085</td>\n",
       "      <td>-0.0026</td>\n",
       "    </tr>\n",
       "    <tr>\n",
       "      <th>...</th>\n",
       "      <td>...</td>\n",
       "      <td>...</td>\n",
       "    </tr>\n",
       "    <tr>\n",
       "      <th>17945</th>\n",
       "      <td>0.0002</td>\n",
       "      <td>0.0004</td>\n",
       "    </tr>\n",
       "    <tr>\n",
       "      <th>108671</th>\n",
       "      <td>0.0026</td>\n",
       "      <td>0.0017</td>\n",
       "    </tr>\n",
       "    <tr>\n",
       "      <th>85995</th>\n",
       "      <td>0.0022</td>\n",
       "      <td>0.0017</td>\n",
       "    </tr>\n",
       "    <tr>\n",
       "      <th>97773</th>\n",
       "      <td>0.0122</td>\n",
       "      <td>0.0002</td>\n",
       "    </tr>\n",
       "    <tr>\n",
       "      <th>20159</th>\n",
       "      <td>-0.0023</td>\n",
       "      <td>0.0004</td>\n",
       "    </tr>\n",
       "  </tbody>\n",
       "</table>\n",
       "<p>218 rows × 2 columns</p>\n",
       "</div>"
      ],
      "text/plain": [
       "        Actual Output  Predicted Output\n",
       "58903         -0.0008            0.0017\n",
       "18404         -0.0000            0.0016\n",
       "78731          0.0010            0.0017\n",
       "96563          0.0005            0.0018\n",
       "113206        -0.0085           -0.0026\n",
       "...               ...               ...\n",
       "17945          0.0002            0.0004\n",
       "108671         0.0026            0.0017\n",
       "85995          0.0022            0.0017\n",
       "97773          0.0122            0.0002\n",
       "20159         -0.0023            0.0004\n",
       "\n",
       "[218 rows x 2 columns]"
      ]
     },
     "execution_count": 29,
     "metadata": {},
     "output_type": "execute_result"
    }
   ],
   "source": [
    "pd.options.display.float_format = '{:.4f}'.format\n",
    "y_compare={'Actual Output':y_test, 'Predicted Output':y_pred}\n",
    "pd.DataFrame(y_compare)"
   ]
  },
  {
   "cell_type": "code",
   "execution_count": null,
   "id": "016f2afc",
   "metadata": {},
   "outputs": [],
   "source": [
    "plt.figure(figsize=(10,10))\n",
    "plt.scatter(y_test, y_pred, c='crimson')\n",
    "plt.yscale('log')\n",
    "plt.xscale('log')\n",
    "\n",
    "p1 = max(max(y_pred), max(y_test))\n",
    "p2 = min(min(y_pred), min(y_test))\n",
    "plt.plot([p1, p2], [p1, p2], 'b-')\n",
    "plt.xlabel('True Values', fontsize=15)\n",
    "plt.ylabel('Predictions', fontsize=15)\n",
    "plt.axis('equal')\n",
    "plt.show()"
   ]
  },
  {
   "cell_type": "code",
   "execution_count": 30,
   "id": "f83dff03",
   "metadata": {},
   "outputs": [
    {
     "name": "stdout",
     "output_type": "stream",
     "text": [
      "Training Score is :  0.8831480784549071\n",
      "----------------------------------------------------------------------------------------------------\n",
      "Testing Score is :  0.12128301830150923\n"
     ]
    }
   ],
   "source": [
    "print('Training Score is : ' , model.score(x_train, y_train))\n",
    "print( '--'*50)\n",
    "print('Testing Score is : ' , model.score(x_test, y_test))"
   ]
  },
  {
   "cell_type": "code",
   "execution_count": 31,
   "id": "c2ac1c72",
   "metadata": {},
   "outputs": [],
   "source": [
    "from sklearn.metrics import mean_absolute_error \n",
    "from sklearn.metrics import mean_squared_error\n",
    "from sklearn.metrics import median_absolute_error"
   ]
  },
  {
   "cell_type": "code",
   "execution_count": 32,
   "id": "f5fd5413",
   "metadata": {},
   "outputs": [],
   "source": [
    "modelos = {'Árvore':DecisionTreeRegressor(max_depth=15),\n",
    "                      'RandomForest':RandomForestRegressor(max_depth=10),\n",
    "                      'LGBM':LGBMRegressor(max_depth=5)\n",
    "                     }"
   ]
  },
  {
   "cell_type": "code",
   "execution_count": 33,
   "id": "7f027284",
   "metadata": {},
   "outputs": [],
   "source": [
    "MAE = mean_absolute_error(y_test,y_pred)\n",
    "MSE = mean_squared_error(y_test,y_pred)\n",
    "medien_error = median_absolute_error(y_test,y_pred)"
   ]
  },
  {
   "cell_type": "code",
   "execution_count": 34,
   "id": "4720a75f",
   "metadata": {},
   "outputs": [
    {
     "name": "stdout",
     "output_type": "stream",
     "text": [
      " Absolute Mean Error : 0.002274228775360588\n",
      "----------------------------------------------------------------------------------------------------\n",
      " Absolute Median Error : 0.0014201830336286133\n",
      "----------------------------------------------------------------------------------------------------\n",
      " Mean Squared Error : 1.1752433867952049e-05\n",
      "----------------------------------------------------------------------------------------------------\n",
      " Root Mean Squared Error : 0.0034281822979462524\n"
     ]
    }
   ],
   "source": [
    "print(' Absolute Mean Error :',MAE)\n",
    "print('--'*50)\n",
    "print(' Absolute Median Error :',medien_error)\n",
    "print('--'*50)\n",
    "print(' Mean Squared Error :',MSE)\n",
    "print('--'*50)\n",
    "print(' Root Mean Squared Error :',np.sqrt(MSE))"
   ]
  },
  {
   "cell_type": "code",
   "execution_count": 35,
   "id": "9ea21823",
   "metadata": {},
   "outputs": [],
   "source": [
    "from sklearn.model_selection import GridSearchCV"
   ]
  },
  {
   "cell_type": "code",
   "execution_count": 37,
   "id": "55f0c6c1",
   "metadata": {},
   "outputs": [],
   "source": [
    "param_grid = {\n",
    "'learning_rate':[.1,.15,.2,.25],\n",
    "'n_estimators':[10,100,150,200],\n",
    "'num_leaves':[20,220,260,300]\n",
    "}\n"
   ]
  },
  {
   "cell_type": "code",
   "execution_count": 38,
   "id": "ce4d9781",
   "metadata": {},
   "outputs": [
    {
     "name": "stdout",
     "output_type": "stream",
     "text": [
      "Fitting 5 folds for each of 64 candidates, totalling 320 fits\n"
     ]
    },
    {
     "data": {
      "text/plain": [
       "{'learning_rate': 0.2, 'n_estimators': 10, 'num_leaves': 20}"
      ]
     },
     "execution_count": 38,
     "metadata": {},
     "output_type": "execute_result"
    }
   ],
   "source": [
    "rcv = GridSearchCV(LGBMRegressor(),param_grid=param_grid,scoring='neg_mean_absolute_error',verbose=True,n_jobs=8)\n",
    "rcv.fit(x,y)\n",
    "\n",
    "rcv.best_params_"
   ]
  },
  {
   "cell_type": "code",
   "execution_count": 41,
   "id": "5b1d4c4b",
   "metadata": {},
   "outputs": [],
   "source": [
    "melhores_parametros = {\n",
    "'learning_rate':.1,\n",
    "'n_estimators':10,\n",
    "'num_leaves':20\n",
    "}"
   ]
  },
  {
   "cell_type": "code",
   "execution_count": 43,
   "id": "1f6774c2",
   "metadata": {},
   "outputs": [],
   "source": [
    "modelo = LGBMRegressor(**best_param).fit(x_train,y_train)\n",
    "y_pred_final = pd.Series(modelo.predict(x),index=x.index)"
   ]
  },
  {
   "cell_type": "code",
   "execution_count": 44,
   "id": "58df6208",
   "metadata": {},
   "outputs": [
    {
     "data": {
      "text/plain": [
       "<AxesSubplot:>"
      ]
     },
     "execution_count": 44,
     "metadata": {},
     "output_type": "execute_result"
    },
    {
     "data": {
      "image/png": "[encoded data removed]",
      "text/plain": [
       "<Figure size 2160x576 with 1 Axes>"
      ]
     },
     "metadata": {
      "needs_background": "light"
     },
     "output_type": "display_data"
    }
   ],
   "source": [
    "plt.figure(figsize=(30,8))\n",
    "y.plot(c='grey',alpha=0.8)"
   ]
  },
  {
   "cell_type": "code",
   "execution_count": 45,
   "id": "1c724a60",
   "metadata": {},
   "outputs": [
    {
     "name": "stdout",
     "output_type": "stream",
     "text": [
      "Performance do melhor LGBM no treino\n",
      "0.0017968753301664234\n",
      "Performance do melhor LGBM no teste\n",
      "0.002256206256903311\n"
     ]
    }
   ],
   "source": [
    "y_train_pred = modelo.predict(x_train)\n",
    "print('Performance do melhor LGBM no treino')\n",
    "print(mean_absolute_error(y_train,y_train_pred))\n",
    "# Calculando a métrica no teste\n",
    "y_test_pred = modelo.predict(x_test)\n",
    "print('Performance do melhor LGBM no teste')\n",
    "print(mean_absolute_error(y_test,y_test_pred))"
   ]
  },
  {
   "cell_type": "code",
   "execution_count": 50,
   "id": "76ebc709",
   "metadata": {},
   "outputs": [
    {
     "ename": "NameError",
     "evalue": "name 'y_plot' is not defined",
     "output_type": "error",
     "traceback": [
      "\u001b[0;31m---------------------------------------------------------------------------\u001b[0m",
      "\u001b[0;31mNameError\u001b[0m                                 Traceback (most recent call last)",
      "\u001b[0;32m<ipython-input-50-c02e8df0df0b>\u001b[0m in \u001b[0;36m<module>\u001b[0;34m\u001b[0m\n\u001b[1;32m      1\u001b[0m \u001b[0mplt\u001b[0m\u001b[0;34m.\u001b[0m\u001b[0mfigure\u001b[0m\u001b[0;34m(\u001b[0m\u001b[0mfigsize\u001b[0m\u001b[0;34m=\u001b[0m\u001b[0;34m(\u001b[0m\u001b[0;36m30\u001b[0m\u001b[0;34m,\u001b[0m\u001b[0;36m6\u001b[0m\u001b[0;34m)\u001b[0m\u001b[0;34m)\u001b[0m\u001b[0;34m\u001b[0m\u001b[0m\n\u001b[0;32m----> 2\u001b[0;31m \u001b[0my_plot\u001b[0m\u001b[0;34m.\u001b[0m\u001b[0mplot\u001b[0m\u001b[0;34m(\u001b[0m\u001b[0mc\u001b[0m\u001b[0;34m=\u001b[0m\u001b[0;34m'grey'\u001b[0m\u001b[0;34m,\u001b[0m\u001b[0malpha\u001b[0m\u001b[0;34m=\u001b[0m\u001b[0;36m0.8\u001b[0m\u001b[0;34m,\u001b[0m\u001b[0mlinewidth\u001b[0m\u001b[0;34m=\u001b[0m\u001b[0;36m3\u001b[0m\u001b[0;34m)\u001b[0m \u001b[0;31m# Dados reais\u001b[0m\u001b[0;34m\u001b[0m\u001b[0m\n\u001b[0m\u001b[1;32m      3\u001b[0m \u001b[0my_preds\u001b[0m\u001b[0;34m.\u001b[0m\u001b[0mplot\u001b[0m\u001b[0;34m(\u001b[0m\u001b[0mc\u001b[0m\u001b[0;34m=\u001b[0m\u001b[0;34m'blue'\u001b[0m\u001b[0;34m)\u001b[0m \u001b[0;31m# Dados reais\u001b[0m\u001b[0;34m\u001b[0m\u001b[0m\n\u001b[1;32m      4\u001b[0m \u001b[0my_mdmv_plot\u001b[0m\u001b[0;34m.\u001b[0m\u001b[0mplot\u001b[0m\u001b[0;34m(\u001b[0m\u001b[0mc\u001b[0m\u001b[0;34m=\u001b[0m\u001b[0;34m'red'\u001b[0m\u001b[0;34m,\u001b[0m\u001b[0malpha\u001b[0m\u001b[0;34m=\u001b[0m\u001b[0;36m0.5\u001b[0m\u001b[0;34m)\u001b[0m \u001b[0;31m# Dados reais\u001b[0m\u001b[0;34m\u001b[0m\u001b[0m\n\u001b[1;32m      5\u001b[0m \u001b[0mplt\u001b[0m\u001b[0;34m.\u001b[0m\u001b[0mxticks\u001b[0m\u001b[0;34m(\u001b[0m\u001b[0mfontsize\u001b[0m\u001b[0;34m=\u001b[0m\u001b[0;36m22\u001b[0m\u001b[0;34m)\u001b[0m\u001b[0;34m\u001b[0m\u001b[0m\n",
      "\u001b[0;31mNameError\u001b[0m: name 'y_plot' is not defined"
     ]
    },
    {
     "data": {
      "text/plain": [
       "<Figure size 2160x432 with 0 Axes>"
      ]
     },
     "metadata": {},
     "output_type": "display_data"
    }
   ],
   "source": [
    "plt.figure(figsize=(30,6))\n",
    "y_plot.plot(c='grey',alpha=0.8,linewidth=3) # Dados reais\n",
    "y_preds.plot(c='blue') # Dados reais\n",
    "y_mdmv_plot.plot(c='red',alpha=0.5) # Dados reais\n",
    "plt.xticks(fontsize=22)\n",
    "plt.yticks(fontsize=22)\n",
    "plt.xlabel('Dia',size=22)\n",
    "plt.ylabel('PM 2.5',size=22)\n",
    "plt.title('Histórico de PM 2.5 por hora',size=22)\n",
    "plt.legend(['Dados reais','Modelo LGBM','Média móvel 48h'],fontsize=22)\n",
    "plt.show()"
   ]
  },
  {
   "cell_type": "code",
   "execution_count": 51,
   "id": "b55f6cd4",
   "metadata": {},
   "outputs": [],
   "source": [
    "from keras.models import Sequential\n",
    "from keras.layers import Dense\n",
    "from keras.layers import LSTM # Long Short Term Memory\n",
    "from keras.layers import Bidirectional\n",
    "from keras.layers import Dropout # Regularização\n",
    "from sklearn.preprocessing import MinMaxScaler\n",
    "from keras.callbacks import EarlyStopping # Regularização"
   ]
  },
  {
   "cell_type": "code",
   "execution_count": null,
   "id": "159d86ee",
   "metadata": {},
   "outputs": [],
   "source": [
    "sc = StandardScaler().fit(x_train)\n",
    "x_train_sc = sc.transform(x_train).reshape(x_train.shape[0],1,x_train.shape[1])\n",
    "x_test_sc = sc.transform(x_test).reshape(x_test.shape[0],1,x_test.shape[1])"
   ]
  },
  {
   "cell_type": "code",
   "execution_count": null,
   "id": "b474613b",
   "metadata": {},
   "outputs": [],
   "source": [
    "# Construindo a estrutura da rede neural\n",
    "callback = EarlyStopping(monitor='val_loss', patience=3)\n",
    "\n",
    "model = Sequential() # Vamos construir uma rede sequencial\n",
    "model.add(\n",
    "    Bidirectional(LSTM(units=50,input_shape=(x_train_sc.shape[1],x_train_sc.shape[2]))) # Camada LSTM (com memória), bidirecional!\n",
    ") # Camada de rede neural com memória\n",
    "model.add(Dropout(rate=0.2)) # Camada de 'esquecimento' de atualização de pesos, para regularização!\n",
    "model.add(Dense(1)) # Adicionando uma camada que resulta em um output (variável resposta) único\n",
    "model.compile(loss='mae', optimizer='adam') # Vou minimizar a o MAE, usando a técnica Adam"
   ]
  },
  {
   "cell_type": "code",
   "execution_count": null,
   "id": "6adb1b9a",
   "metadata": {},
   "outputs": [],
   "source": [
    "# fit network\n",
    "history = model.fit(\n",
    "    x_train_sc, y_train, # Dados de treino\n",
    "    epochs=50, # Número de iterações, i.e., quantas vezes irei atualizar os coeficientes\n",
    "    batch_size=36, # Tamanho dos dados de entrada a cada iteração\n",
    "    validation_data=(x_test_sc, y_test), # Dados que o modelo já usará para a validação\n",
    "    verbose=2, # Forma de apresentar os resultados parciais\n",
    "    shuffle=False, # Como os dados são temporais, não posso embaralhar!\n",
    "    callbacks=[callback] # Critérios de parada\n",
    ")\n"
   ]
  },
  {
   "cell_type": "code",
   "execution_count": null,
   "id": "9927d48f",
   "metadata": {},
   "outputs": [],
   "source": [
    "# plot history\n",
    "plt.figure(figsize=(20,6))\n",
    "plt.plot(history.history['loss'], label='train')\n",
    "plt.plot(history.history['val_loss'], label='test')\n",
    "plt.xlabel('Número de épocas (iterações)',size=18)\n",
    "plt.ylabel('MAE (menor = melhor)',size=18)\n",
    "plt.title('Evolução da função perda ao longo das iterações da rede neural',size=18)\n",
    "plt.legend(['Treino','Teste'],fontsize=18)\n",
    "plt.show()"
   ]
  },
  {
   "cell_type": "code",
   "execution_count": null,
   "id": "62978a54",
   "metadata": {},
   "outputs": [],
   "source": [
    "y_pred_nn_train = model.predict(x_train_sc)\n",
    "y_pred_nn_test = model.predict(x_test_sc)"
   ]
  },
  {
   "cell_type": "code",
   "execution_count": null,
   "id": "1321b634",
   "metadata": {},
   "outputs": [],
   "source": [
    "x_train['pred_nn'] = y_pred_nn_train\n",
    "x_test['pred_nn'] = y_pred_nn_test\n",
    "# Prevendo o modelo\n",
    "y_pred_nn_train = x_train['pred_nn']\n",
    "y_pred_nn_test = x_test['pred_nn']\n",
    "# Eliminando colunas auxiliares"
   ]
  },
  {
   "cell_type": "code",
   "execution_count": null,
   "id": "b41730f9",
   "metadata": {},
   "outputs": [],
   "source": []
  },
  {
   "cell_type": "code",
   "execution_count": null,
   "id": "713b951c",
   "metadata": {},
   "outputs": [],
   "source": []
  },
  {
   "cell_type": "code",
   "execution_count": null,
   "id": "a0f00312",
   "metadata": {},
   "outputs": [],
   "source": []
  },
  {
   "cell_type": "code",
   "execution_count": null,
   "id": "dfcd12b6",
   "metadata": {},
   "outputs": [],
   "source": []
  },
  {
   "cell_type": "code",
   "execution_count": null,
   "id": "14eb73a4",
   "metadata": {},
   "outputs": [],
   "source": []
  },
  {
   "cell_type": "code",
   "execution_count": null,
   "id": "0317834d",
   "metadata": {},
   "outputs": [],
   "source": []
  },
  {
   "cell_type": "code",
   "execution_count": null,
   "id": "43fffdf1",
   "metadata": {},
   "outputs": [],
   "source": []
  },
  {
   "cell_type": "code",
   "execution_count": null,
   "id": "40cd0bc7",
   "metadata": {},
   "outputs": [],
   "source": []
  },
  {
   "cell_type": "code",
   "execution_count": 47,
   "id": "fdd4f848",
   "metadata": {},
   "outputs": [
    {
     "name": "stdout",
     "output_type": "stream",
     "text": [
      "Collecting keras\n",
      "  Downloading keras-2.9.0-py2.py3-none-any.whl (1.6 MB)\n",
      "     |████████████████████████████████| 1.6 MB 912 kB/s            \n",
      "\u001b[?25hInstalling collected packages: keras\n",
      "Successfully installed keras-2.9.0\n"
     ]
    }
   ],
   "source": [
    "!pip install keras"
   ]
  },
  {
   "cell_type": "code",
   "execution_count": 49,
   "id": "6cb694a2",
   "metadata": {},
   "outputs": [
    {
     "name": "stdout",
     "output_type": "stream",
     "text": [
      "Collecting tensorFlow\n",
      "  Downloading tensorflow-2.6.2-cp36-cp36m-manylinux2010_x86_64.whl (458.3 MB)\n",
      "     |████████████████████████████████| 458.3 MB 18 kB/s              \n",
      "\u001b[?25hCollecting keras<2.7,>=2.6.0\n",
      "  Downloading keras-2.6.0-py2.py3-none-any.whl (1.3 MB)\n",
      "     |████████████████████████████████| 1.3 MB 12.3 MB/s            \n",
      "\u001b[?25hCollecting clang~=5.0\n",
      "  Downloading clang-5.0.tar.gz (30 kB)\n",
      "  Preparing metadata (setup.py) ... \u001b[?25ldone\n",
      "\u001b[?25hCollecting h5py~=3.1.0\n",
      "  Downloading h5py-3.1.0-cp36-cp36m-manylinux1_x86_64.whl (4.0 MB)\n",
      "     |████████████████████████████████| 4.0 MB 54.9 MB/s            \n",
      "\u001b[?25hCollecting opt-einsum~=3.3.0\n",
      "  Downloading opt_einsum-3.3.0-py3-none-any.whl (65 kB)\n",
      "     |████████████████████████████████| 65 kB 3.8 MB/s             \n",
      "\u001b[?25hCollecting absl-py~=0.10\n",
      "  Downloading absl_py-0.15.0-py3-none-any.whl (132 kB)\n",
      "     |████████████████████████████████| 132 kB 46.6 MB/s            \n",
      "\u001b[?25hCollecting termcolor~=1.1.0\n",
      "  Downloading termcolor-1.1.0.tar.gz (3.9 kB)\n",
      "  Preparing metadata (setup.py) ... \u001b[?25ldone\n",
      "\u001b[?25hCollecting typing-extensions~=3.7.4\n",
      "  Downloading typing_extensions-3.7.4.3-py3-none-any.whl (22 kB)\n",
      "Collecting six~=1.15.0\n",
      "  Downloading six-1.15.0-py2.py3-none-any.whl (10 kB)\n",
      "Collecting tensorflow-estimator<2.7,>=2.6.0\n",
      "  Downloading tensorflow_estimator-2.6.0-py2.py3-none-any.whl (462 kB)\n",
      "     |████████████████████████████████| 462 kB 39.9 MB/s            \n",
      "\u001b[?25hCollecting google-pasta~=0.2\n",
      "  Downloading google_pasta-0.2.0-py3-none-any.whl (57 kB)\n",
      "     |████████████████████████████████| 57 kB 6.2 MB/s             \n",
      "\u001b[?25hCollecting keras-preprocessing~=1.1.2\n",
      "  Downloading Keras_Preprocessing-1.1.2-py2.py3-none-any.whl (42 kB)\n",
      "     |████████████████████████████████| 42 kB 1.2 MB/s             \n",
      "\u001b[?25hCollecting wrapt~=1.12.1\n",
      "  Downloading wrapt-1.12.1.tar.gz (27 kB)\n",
      "  Preparing metadata (setup.py) ... \u001b[?25ldone\n",
      "\u001b[?25hCollecting astunparse~=1.6.3\n",
      "  Downloading astunparse-1.6.3-py2.py3-none-any.whl (12 kB)\n",
      "Collecting protobuf>=3.9.2\n",
      "  Downloading protobuf-3.19.4-cp36-cp36m-manylinux_2_17_x86_64.manylinux2014_x86_64.whl (1.1 MB)\n",
      "     |████████████████████████████████| 1.1 MB 26.1 MB/s            \n",
      "\u001b[?25hCollecting grpcio<2.0,>=1.37.0\n",
      "  Downloading grpcio-1.47.0-cp36-cp36m-manylinux_2_17_x86_64.manylinux2014_x86_64.whl (4.5 MB)\n",
      "     |████████████████████████████████| 4.5 MB 60.5 MB/s            \n",
      "\u001b[?25hCollecting flatbuffers~=1.12.0\n",
      "  Downloading flatbuffers-1.12-py2.py3-none-any.whl (15 kB)\n",
      "Collecting tensorboard<2.7,>=2.6.0\n",
      "  Downloading tensorboard-2.6.0-py3-none-any.whl (5.6 MB)\n",
      "     |████████████████████████████████| 5.6 MB 4.3 MB/s            \n",
      "\u001b[?25hCollecting gast==0.4.0\n",
      "  Downloading gast-0.4.0-py3-none-any.whl (9.8 kB)\n",
      "Requirement already satisfied: numpy~=1.19.2 in /home/diolinux/.pyenv/versions/3.6.6/lib/python3.6/site-packages (from tensorFlow) (1.19.5)\n",
      "Requirement already satisfied: wheel~=0.35 in /home/diolinux/.pyenv/versions/3.6.6/lib/python3.6/site-packages (from tensorFlow) (0.37.1)\n",
      "Collecting cached-property\n",
      "  Downloading cached_property-1.5.2-py2.py3-none-any.whl (7.6 kB)\n",
      "Collecting markdown>=2.6.8\n",
      "  Downloading Markdown-3.3.7-py3-none-any.whl (97 kB)\n",
      "     |████████████████████████████████| 97 kB 5.0 MB/s             \n",
      "\u001b[?25hCollecting setuptools>=41.0.0\n",
      "  Using cached setuptools-59.6.0-py3-none-any.whl (952 kB)\n",
      "Collecting google-auth<2,>=1.6.3\n",
      "  Downloading google_auth-1.35.0-py2.py3-none-any.whl (152 kB)\n",
      "     |████████████████████████████████| 152 kB 45.1 MB/s            \n",
      "\u001b[?25hCollecting google-auth-oauthlib<0.5,>=0.4.1\n",
      "  Downloading google_auth_oauthlib-0.4.6-py2.py3-none-any.whl (18 kB)\n",
      "Requirement already satisfied: requests<3,>=2.21.0 in /home/diolinux/.pyenv/versions/3.6.6/lib/python3.6/site-packages (from tensorboard<2.7,>=2.6.0->tensorFlow) (2.27.1)\n",
      "Collecting werkzeug>=0.11.15\n",
      "  Downloading Werkzeug-2.0.3-py3-none-any.whl (289 kB)\n",
      "     |████████████████████████████████| 289 kB 60.0 MB/s            \n",
      "\u001b[?25hCollecting tensorboard-plugin-wit>=1.6.0\n",
      "  Downloading tensorboard_plugin_wit-1.8.1-py3-none-any.whl (781 kB)\n",
      "     |████████████████████████████████| 781 kB 23.4 MB/s            \n",
      "\u001b[?25hCollecting tensorboard-data-server<0.7.0,>=0.6.0\n",
      "  Downloading tensorboard_data_server-0.6.1-py3-none-manylinux2010_x86_64.whl (4.9 MB)\n",
      "     |████████████████████████████████| 4.9 MB 54.9 MB/s            \n",
      "\u001b[?25hCollecting pyasn1-modules>=0.2.1\n",
      "  Downloading pyasn1_modules-0.2.8-py2.py3-none-any.whl (155 kB)\n",
      "     |████████████████████████████████| 155 kB 31.4 MB/s            \n",
      "\u001b[?25hCollecting rsa<5,>=3.1.4\n",
      "  Downloading rsa-4.9-py3-none-any.whl (34 kB)\n",
      "Collecting cachetools<5.0,>=2.0.0\n",
      "  Downloading cachetools-4.2.4-py3-none-any.whl (10 kB)\n",
      "Collecting requests-oauthlib>=0.7.0\n",
      "  Downloading requests_oauthlib-1.3.1-py2.py3-none-any.whl (23 kB)\n",
      "Requirement already satisfied: importlib-metadata>=4.4 in /home/diolinux/.pyenv/versions/3.6.6/lib/python3.6/site-packages (from markdown>=2.6.8->tensorboard<2.7,>=2.6.0->tensorFlow) (4.8.3)\n",
      "Requirement already satisfied: idna<4,>=2.5 in /home/diolinux/.pyenv/versions/3.6.6/lib/python3.6/site-packages (from requests<3,>=2.21.0->tensorboard<2.7,>=2.6.0->tensorFlow) (3.3)\n",
      "Requirement already satisfied: certifi>=2017.4.17 in /home/diolinux/.pyenv/versions/3.6.6/lib/python3.6/site-packages (from requests<3,>=2.21.0->tensorboard<2.7,>=2.6.0->tensorFlow) (2022.6.15)\n",
      "Requirement already satisfied: urllib3<1.27,>=1.21.1 in /home/diolinux/.pyenv/versions/3.6.6/lib/python3.6/site-packages (from requests<3,>=2.21.0->tensorboard<2.7,>=2.6.0->tensorFlow) (1.26.9)\n",
      "Requirement already satisfied: charset-normalizer~=2.0.0 in /home/diolinux/.pyenv/versions/3.6.6/lib/python3.6/site-packages (from requests<3,>=2.21.0->tensorboard<2.7,>=2.6.0->tensorFlow) (2.0.12)\n",
      "Requirement already satisfied: dataclasses in /home/diolinux/.pyenv/versions/3.6.6/lib/python3.6/site-packages (from werkzeug>=0.11.15->tensorboard<2.7,>=2.6.0->tensorFlow) (0.8)\n",
      "Requirement already satisfied: zipp>=0.5 in /home/diolinux/.pyenv/versions/3.6.6/lib/python3.6/site-packages (from importlib-metadata>=4.4->markdown>=2.6.8->tensorboard<2.7,>=2.6.0->tensorFlow) (3.6.0)\n",
      "Collecting pyasn1<0.5.0,>=0.4.6\n",
      "  Downloading pyasn1-0.4.8-py2.py3-none-any.whl (77 kB)\n",
      "     |████████████████████████████████| 77 kB 6.3 MB/s             \n",
      "\u001b[?25hCollecting oauthlib>=3.0.0\n",
      "  Downloading oauthlib-3.2.0-py3-none-any.whl (151 kB)\n",
      "     |████████████████████████████████| 151 kB 51.5 MB/s            \n",
      "\u001b[?25hBuilding wheels for collected packages: clang, termcolor, wrapt\n",
      "  Building wheel for clang (setup.py) ... \u001b[?25ldone\n",
      "\u001b[?25h  Created wheel for clang: filename=clang-5.0-py3-none-any.whl size=30703 sha256=97e6f64f73bc67ed48d7fda1e41f6d2a03356d798ac829b55ca1b0fbc57f3509\n",
      "  Stored in directory: /home/diolinux/.cache/pip/wheels/22/4c/94/0583f60c9c5b6024ed64f290cb2d43b06bb4f75577dc3c93a7\n",
      "  Building wheel for termcolor (setup.py) ... \u001b[?25ldone\n",
      "\u001b[?25h  Created wheel for termcolor: filename=termcolor-1.1.0-py3-none-any.whl size=4830 sha256=305dc2c558e40356e1755b34e51a7af1bc894651e1c3580766f57ce1137d76bb\n",
      "  Stored in directory: /home/diolinux/.cache/pip/wheels/93/2a/eb/e58dbcbc963549ee4f065ff80a59f274cc7210b6eab962acdc\n",
      "  Building wheel for wrapt (setup.py) ... \u001b[?25ldone\n",
      "\u001b[?25h  Created wheel for wrapt: filename=wrapt-1.12.1-cp36-cp36m-linux_x86_64.whl size=76008 sha256=9002dad005431b107528dc6dc30cad57be578c3c83619651b26fecec90e0754b\n",
      "  Stored in directory: /home/diolinux/.cache/pip/wheels/32/42/7f/23cae9ff6ef66798d00dc5d659088e57dbba01566f6c60db63\n",
      "Successfully built clang termcolor wrapt\n",
      "Installing collected packages: pyasn1, typing-extensions, six, setuptools, rsa, pyasn1-modules, oauthlib, cachetools, requests-oauthlib, google-auth, werkzeug, tensorboard-plugin-wit, tensorboard-data-server, protobuf, markdown, grpcio, google-auth-oauthlib, cached-property, absl-py, wrapt, termcolor, tensorflow-estimator, tensorboard, opt-einsum, keras-preprocessing, keras, h5py, google-pasta, gast, flatbuffers, clang, astunparse, tensorFlow\n",
      "  Attempting uninstall: typing-extensions\n",
      "    Found existing installation: typing-extensions 4.1.1\n",
      "    Uninstalling typing-extensions-4.1.1:\n",
      "      Successfully uninstalled typing-extensions-4.1.1\n",
      "  Attempting uninstall: six\n",
      "    Found existing installation: six 1.16.0\n",
      "    Uninstalling six-1.16.0:\n"
     ]
    },
    {
     "name": "stdout",
     "output_type": "stream",
     "text": [
      "      Successfully uninstalled six-1.16.0\n",
      "  Attempting uninstall: setuptools\n",
      "    Found existing installation: setuptools 39.0.1\n",
      "    Uninstalling setuptools-39.0.1:\n",
      "      Successfully uninstalled setuptools-39.0.1\n",
      "  Attempting uninstall: keras\n",
      "    Found existing installation: keras 2.9.0\n",
      "    Uninstalling keras-2.9.0:\n",
      "      Successfully uninstalled keras-2.9.0\n",
      "Successfully installed absl-py-0.15.0 astunparse-1.6.3 cached-property-1.5.2 cachetools-4.2.4 clang-5.0 flatbuffers-1.12 gast-0.4.0 google-auth-1.35.0 google-auth-oauthlib-0.4.6 google-pasta-0.2.0 grpcio-1.47.0 h5py-3.1.0 keras-2.6.0 keras-preprocessing-1.1.2 markdown-3.3.7 oauthlib-3.2.0 opt-einsum-3.3.0 protobuf-3.19.4 pyasn1-0.4.8 pyasn1-modules-0.2.8 requests-oauthlib-1.3.1 rsa-4.9 setuptools-59.6.0 six-1.15.0 tensorFlow-2.6.2 tensorboard-2.6.0 tensorboard-data-server-0.6.1 tensorboard-plugin-wit-1.8.1 tensorflow-estimator-2.6.0 termcolor-1.1.0 typing-extensions-3.7.4.3 werkzeug-2.0.3 wrapt-1.12.1\n"
     ]
    }
   ],
   "source": [
    "!pip install tensorFlow"
   ]
  },
  {
   "cell_type": "code",
   "execution_count": null,
   "id": "4b18f5bd",
   "metadata": {},
   "outputs": [],
   "source": []
  },
  {
   "cell_type": "code",
   "execution_count": null,
   "id": "b7093eba",
   "metadata": {},
   "outputs": [],
   "source": []
  },
  {
   "cell_type": "code",
   "execution_count": null,
   "id": "f811a30d",
   "metadata": {},
   "outputs": [],
   "source": []
  },
  {
   "cell_type": "code",
   "execution_count": null,
   "id": "74d8a176",
   "metadata": {},
   "outputs": [],
   "source": []
  },
  {
   "cell_type": "code",
   "execution_count": null,
   "id": "3894e576",
   "metadata": {},
   "outputs": [],
   "source": []
  },
  {
   "cell_type": "code",
   "execution_count": null,
   "id": "7028ba1c",
   "metadata": {},
   "outputs": [],
   "source": []
  },
  {
   "cell_type": "code",
   "execution_count": null,
   "id": "31c36ff3",
   "metadata": {},
   "outputs": [],
   "source": []
  },
  {
   "cell_type": "code",
   "execution_count": null,
   "id": "5c98adc1",
   "metadata": {},
   "outputs": [],
   "source": []
  },
  {
   "cell_type": "code",
   "execution_count": null,
   "id": "a85df14c",
   "metadata": {},
   "outputs": [],
   "source": [
    "avaliacao = {}\n",
    "for nome,model in modelos.items():\n",
    "    # Avalia a crossvalidação\n",
    "    score = cross_val_score(model, # Escolhendo o nosso modelo da vez\n",
    "                            X_train, y_train, # Nossos dados, excluindo o teste\n",
    "                            cv=TimeSeriesSplit(n_splits=30), # Validação cruzada temporal\n",
    "                            scoring='neg_mean_absolute_error', # Usando a métrica MAE\n",
    "                           n_jobs=8 # Número de processadores, para ser mais rápido\n",
    "                           ).mean() # Tirando a média de todos os folds\n",
    "    avaliacao[nome] = -score # -score e não score para tornar o número positivo"
   ]
  },
  {
   "cell_type": "code",
   "execution_count": null,
   "id": "4daef395",
   "metadata": {},
   "outputs": [],
   "source": [
    "avaliacao"
   ]
  },
  {
   "cell_type": "code",
   "execution_count": null,
   "id": "707c26b6",
   "metadata": {},
   "outputs": [],
   "source": [
    "plt.figure(figsize=(10,5))\n",
    "plt.barh(*zip(*avaliacao.items()))\n",
    "plt.xticks(fontsize=18)\n",
    "plt.yticks(fontsize=18)\n",
    "plt.xlabel('MAE (menor = melhor)',size=18)\n",
    "plt.show()"
   ]
  },
  {
   "cell_type": "code",
   "execution_count": null,
   "id": "b772bea2",
   "metadata": {},
   "outputs": [],
   "source": []
  },
  {
   "cell_type": "code",
   "execution_count": null,
   "id": "cfd40ad3",
   "metadata": {},
   "outputs": [],
   "source": []
  },
  {
   "cell_type": "code",
   "execution_count": null,
   "id": "98ebf411",
   "metadata": {},
   "outputs": [],
   "source": []
  },
  {
   "cell_type": "code",
   "execution_count": null,
   "id": "900c4df4",
   "metadata": {},
   "outputs": [],
   "source": []
  },
  {
   "cell_type": "code",
   "execution_count": null,
   "id": "8313619f",
   "metadata": {},
   "outputs": [],
   "source": []
  },
  {
   "cell_type": "code",
   "execution_count": null,
   "id": "4ad04071",
   "metadata": {},
   "outputs": [],
   "source": []
  },
  {
   "cell_type": "code",
   "execution_count": null,
   "id": "993710c0",
   "metadata": {},
   "outputs": [],
   "source": [
    "#from datetime import datetime, timedelta\n",
    "#novo['Dias_analise']=(novo['DATA FINAL'] - novo['DATA INICIAL']) / timedelta(days=1)"
   ]
  },
  {
   "cell_type": "code",
   "execution_count": null,
   "id": "6a1e6660",
   "metadata": {},
   "outputs": [],
   "source": [
    "novo['Dias_analise'].value_counts()"
   ]
  },
  {
   "cell_type": "code",
   "execution_count": null,
   "id": "63ecdbc9",
   "metadata": {},
   "outputs": [],
   "source": [
    "novo['Dias_analise'].head()"
   ]
  }
 ],
 "metadata": {
  "kernelspec": {
   "display_name": "Python 3",
   "language": "python",
   "name": "python3"
  },
  "language_info": {
   "codemirror_mode": {
    "name": "ipython",
    "version": 3
   },
   "file_extension": ".py",
   "mimetype": "text/x-python",
   "name": "python",
   "nbconvert_exporter": "python",
   "pygments_lexer": "ipython3",
   "version": "3.6.6"
  }
 },
 "nbformat": 4,
 "nbformat_minor": 5
}
